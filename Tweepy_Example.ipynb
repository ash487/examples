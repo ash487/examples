{
 "cells": [
  {
   "cell_type": "code",
   "execution_count": 1,
   "metadata": {
    "collapsed": false
   },
   "outputs": [],
   "source": [
    "import csv\n",
    "import tweepy\n",
    "from tweepy.streaming import StreamListener\n",
    "from tweepy import OAuthHandler\n",
    "from tweepy import Stream\n",
    "\n",
    "ckey = \n",
    "csecret = \n",
    "atoken = \n",
    "asecret = \n",
    "\n",
    "auth = tweepy.OAuthHandler(ckey, csecret)\n",
    "auth.set_access_token(atoken, asecret)\n",
    "api = tweepy.API(auth, retry_count=1000, retry_delay=887, wait_on_rate_limit = True, wait_on_rate_limit_notify= True)\n",
    "    \n",
    "class StdOutListener(StreamListener):\n",
    "\n",
    "    def on_data(self, data):\n",
    "        print (data)\n",
    "        return True\n",
    "\n",
    "    def on_error(self, status):\n",
    "        print (status)\n",
    "        \n",
    "if __name__ == '__main__':\n",
    "\n",
    "    \n",
    "    l = StdOutListener()\n",
    "    auth = OAuthHandler(ckey, csecret)\n",
    "    auth.set_access_token(atoken, asecret)\n",
    "    stream = Stream(auth, l)\n",
    "\n",
    "csvFile = open('bencarson12115.csv', 'a')\n",
    "csvWriter = csv.writer(csvFile)\n",
    "api = tweepy.API(auth)\n",
    "timeline = api.user_timeline(id = \"realbencarson\", include_rts = True, count = 3500, since = \"2014-11-01\")\n",
    "for tweet in timeline:\n",
    "    csvWriter.writerow([tweet.created_at, tweet.text.encode('utf-8'), tweet.retweet_count, tweet.favorite_count, tweet.retweeted])\n",
    "csvFile.close()"
   ]
  }
 ],
 "metadata": {
  "kernelspec": {
   "display_name": "Python 2",
   "language": "python",
   "name": "python2"
  },
  "language_info": {
   "codemirror_mode": {
    "name": "ipython",
    "version": 2
   },
   "file_extension": ".py",
   "mimetype": "text/x-python",
   "name": "python",
   "nbconvert_exporter": "python",
   "pygments_lexer": "ipython2",
   "version": "2.7.6"
  }
 },
 "nbformat": 4,
 "nbformat_minor": 0
}
