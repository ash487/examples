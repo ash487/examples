{
 "cells": [
  {
   "cell_type": "code",
   "execution_count": 142,
   "metadata": {
    "collapsed": true
   },
   "outputs": [],
   "source": [
    "#SET ALPHA\n",
    "ALPHA = 0.8"
   ]
  },
  {
   "cell_type": "code",
   "execution_count": 143,
   "metadata": {
    "collapsed": true
   },
   "outputs": [],
   "source": [
    "import re\n",
    "def get_num_references(text):\n",
    "    numref = len(re.findall('@', text))\n",
    "    return numref\n",
    "\n",
    "def get_num_hashtags(text):\n",
    "    numref = len(re.findall('#', text))\n",
    "    return numref\n",
    "\n",
    "def get_num_links(text):\n",
    "    numlinks = len(re.findall('https?:\\/\\/', text))\n",
    "    return numlinks\n",
    "\n",
    "def remove_links(text):\n",
    "    clean_text = re.sub('https?:\\/\\/.*\\..+\\/.*\\s?', '', text)\n",
    "    return clean_text\n",
    "\n",
    "def remove_reference(text):\n",
    "    clean_text = re.sub('@\\w+(\\s|:)?', '', text)\n",
    "    return clean_text\n",
    "\n",
    "def swap_time(text):\n",
    "    re_time = re.compile(r'\\d{1,2}:\\d\\d[ ]?(am|pm)?')\n",
    "    re_time.sub(' TIME ',text)\n",
    "    return text\n",
    "\n",
    "def clean_text(text):\n",
    "    return re.sub('[^a-zA-Z0-9]', ' ', text)\n",
    "\n",
    "def preprocess_text(text):\n",
    "    return clean_text(swap_time(remove_links(remove_reference(text))))\n",
    "\n",
    "def compute_engagement_score(retweets,fav):\n",
    "    return ALPHA*retweets+(1-ALPHA)*fav\n",
    "    \n",
    "def get_day_hour(text):\n",
    "    m = re.match(\"^\\w\\w\\w \\w\\w\\w \\d\\d (\\d\\d)*\", text)\n",
    "    return int(m.group(1))\n",
    "\n",
    "def get_weekday_mon(text, day):\n",
    "    m = re.match(\"^(\\w\\w\\w) \\w\\w\\w \\d\\d \\d\\d:\\d\\d:\\d\\d*\", text)\n",
    "    return 1 if (m.group(1) == \"day\") else 0"
   ]
  },
  {
   "cell_type": "code",
   "execution_count": 144,
   "metadata": {
    "collapsed": false
   },
   "outputs": [],
   "source": [
    "from sklearn.feature_extraction.text import TfidfTransformer\n",
    "from sklearn.feature_extraction.text import CountVectorizer\n",
    "import pandas as pd\n",
    "\n",
    "data = pd.read_csv('NYUDS_realdonaldtrump_final_nolinebreaks.csv',\n",
    "                       header = None, \n",
    "                       names = ['D','T','R','F','NA'], encoding = \"ISO-8859-1\")\n",
    "\n"
   ]
  },
  {
   "cell_type": "code",
   "execution_count": 145,
   "metadata": {
    "collapsed": false
   },
   "outputs": [],
   "source": [
    "data['Y'] = pd.DataFrame(compute_engagement_score(data['R'], data['F']))"
   ]
  },
  {
   "cell_type": "code",
   "execution_count": 146,
   "metadata": {
    "collapsed": false
   },
   "outputs": [
    {
     "data": {
      "text/html": [
       "<div>\n",
       "<table border=\"1\" class=\"dataframe\">\n",
       "  <thead>\n",
       "    <tr style=\"text-align: right;\">\n",
       "      <th></th>\n",
       "      <th>D</th>\n",
       "      <th>T</th>\n",
       "      <th>R</th>\n",
       "      <th>F</th>\n",
       "      <th>NA</th>\n",
       "      <th>Y</th>\n",
       "    </tr>\n",
       "  </thead>\n",
       "  <tbody>\n",
       "    <tr>\n",
       "      <th>0</th>\n",
       "      <td>Wed Dec 09 20:41:17 +0000 2015</td>\n",
       "      <td>\"Carter Banned Iranians From Coming To U.S. Du...</td>\n",
       "      <td>3511</td>\n",
       "      <td>2090</td>\n",
       "      <td>False</td>\n",
       "      <td>3226.8</td>\n",
       "    </tr>\n",
       "    <tr>\n",
       "      <th>1</th>\n",
       "      <td>Wed Dec 09 20:33:53 +0000 2015</td>\n",
       "      <td>\" Haim Saban: Hillary ClintonÛªs Top Hollywoo...</td>\n",
       "      <td>1822</td>\n",
       "      <td>1094</td>\n",
       "      <td>False</td>\n",
       "      <td>1676.4</td>\n",
       "    </tr>\n",
       "    <tr>\n",
       "      <th>2</th>\n",
       "      <td>Wed Dec 09 19:21:31 +0000 2015</td>\n",
       "      <td>The police in London say IÛªm right. Major ar...</td>\n",
       "      <td>3496</td>\n",
       "      <td>2222</td>\n",
       "      <td>False</td>\n",
       "      <td>3241.2</td>\n",
       "    </tr>\n",
       "    <tr>\n",
       "      <th>3</th>\n",
       "      <td>Wed Dec 09 18:46:12 +0000 2015</td>\n",
       "      <td>Thank you @JebBush- you finally get it! https:...</td>\n",
       "      <td>3030</td>\n",
       "      <td>1176</td>\n",
       "      <td>False</td>\n",
       "      <td>2659.2</td>\n",
       "    </tr>\n",
       "    <tr>\n",
       "      <th>4</th>\n",
       "      <td>Wed Dec 09 16:13:22 +0000 2015</td>\n",
       "      <td>Thank you, Piers, they don't know what they're...</td>\n",
       "      <td>5624</td>\n",
       "      <td>2554</td>\n",
       "      <td>False</td>\n",
       "      <td>5010.0</td>\n",
       "    </tr>\n",
       "  </tbody>\n",
       "</table>\n",
       "</div>"
      ],
      "text/plain": [
       "                                D  \\\n",
       "0  Wed Dec 09 20:41:17 +0000 2015   \n",
       "1  Wed Dec 09 20:33:53 +0000 2015   \n",
       "2  Wed Dec 09 19:21:31 +0000 2015   \n",
       "3  Wed Dec 09 18:46:12 +0000 2015   \n",
       "4  Wed Dec 09 16:13:22 +0000 2015   \n",
       "\n",
       "                                                   T     R     F     NA  \\\n",
       "0  \"Carter Banned Iranians From Coming To U.S. Du...  3511  2090  False   \n",
       "1  \" Haim Saban: Hillary ClintonÛªs Top Hollywoo...  1822  1094  False   \n",
       "2  The police in London say IÛªm right. Major ar...  3496  2222  False   \n",
       "3  Thank you @JebBush- you finally get it! https:...  3030  1176  False   \n",
       "4  Thank you, Piers, they don't know what they're...  5624  2554  False   \n",
       "\n",
       "        Y  \n",
       "0  3226.8  \n",
       "1  1676.4  \n",
       "2  3241.2  \n",
       "3  2659.2  \n",
       "4  5010.0  "
      ]
     },
     "execution_count": 146,
     "metadata": {},
     "output_type": "execute_result"
    }
   ],
   "source": [
    "data.head()"
   ]
  },
  {
   "cell_type": "code",
   "execution_count": 147,
   "metadata": {
    "collapsed": false
   },
   "outputs": [],
   "source": [
    "from sklearn.cross_validation import train_test_split\n",
    "import numpy as np\n",
    "\n",
    "X = data['T']\n",
    "\n",
    "Y =  np.where(data['Y']>=np.mean(data['Y']), 1, 0)\n",
    "\n",
    "X_train, X_test, Y_train, Y_test = train_test_split(X, Y, test_size=0.25)"
   ]
  },
  {
   "cell_type": "code",
   "execution_count": 150,
   "metadata": {
    "collapsed": false
   },
   "outputs": [
    {
     "data": {
      "text/plain": [
       "279     The numbers at the @nytimes  are so dismal, es...\n",
       "869     \"@UnitedCitizen01: @DanScavino @realDonaldTrum...\n",
       "497     \"@syoka68: Reading the comments of the leftist...\n",
       "2555    Trump Will Make America GREAT!!!!  #ChangeTheW...\n",
       "654               Amazing evening at Saturday Night Live!\n",
       "Name: T, dtype: object"
      ]
     },
     "execution_count": 150,
     "metadata": {},
     "output_type": "execute_result"
    }
   ],
   "source": [
    "X_train.head()"
   ]
  },
  {
   "cell_type": "code",
   "execution_count": 152,
   "metadata": {
    "collapsed": false
   },
   "outputs": [],
   "source": [
    "X_train = pd.DataFrame(X_train.map(preprocess_text))\n",
    "X_test = pd.DataFrame(X_test.map(preprocess_text))"
   ]
  },
  {
   "cell_type": "code",
   "execution_count": 153,
   "metadata": {
    "collapsed": false
   },
   "outputs": [
    {
     "data": {
      "text/html": [
       "<div>\n",
       "<table border=\"1\" class=\"dataframe\">\n",
       "  <thead>\n",
       "    <tr style=\"text-align: right;\">\n",
       "      <th></th>\n",
       "      <th>T</th>\n",
       "    </tr>\n",
       "  </thead>\n",
       "  <tbody>\n",
       "    <tr>\n",
       "      <th>279</th>\n",
       "      <td>The numbers at the  are so dismal  especially ...</td>\n",
       "    </tr>\n",
       "    <tr>\n",
       "      <th>869</th>\n",
       "      <td>Would be AWESOME moderators for next debate ...</td>\n",
       "    </tr>\n",
       "    <tr>\n",
       "      <th>497</th>\n",
       "      <td>Reading the comments of the leftists on here...</td>\n",
       "    </tr>\n",
       "    <tr>\n",
       "      <th>2555</th>\n",
       "      <td>Trump Will Make America GREAT       ChangeTheW...</td>\n",
       "    </tr>\n",
       "    <tr>\n",
       "      <th>654</th>\n",
       "      <td>Amazing evening at Saturday Night Live</td>\n",
       "    </tr>\n",
       "  </tbody>\n",
       "</table>\n",
       "</div>"
      ],
      "text/plain": [
       "                                                      T\n",
       "279   The numbers at the  are so dismal  especially ...\n",
       "869     Would be AWESOME moderators for next debate ...\n",
       "497     Reading the comments of the leftists on here...\n",
       "2555  Trump Will Make America GREAT       ChangeTheW...\n",
       "654             Amazing evening at Saturday Night Live "
      ]
     },
     "execution_count": 153,
     "metadata": {},
     "output_type": "execute_result"
    }
   ],
   "source": [
    "X_train.head()"
   ]
  },
  {
   "cell_type": "code",
   "execution_count": 154,
   "metadata": {
    "collapsed": false
   },
   "outputs": [],
   "source": [
    "from sklearn.feature_extraction.text import CountVectorizer\n",
    "from sklearn.feature_extraction.text import TfidfVectorizer\n",
    "\n",
    "binary_vectorizer = CountVectorizer(binary=True, stop_words='english', max_features=3000,ngram_range=(1, 2))\n",
    "binary_vectorizer.fit(X_train['T'])\n",
    "X_train_binary = binary_vectorizer.transform(X_train['T'])\n",
    "X_test_binary = binary_vectorizer.transform(X_test['T'])\n",
    "\n",
    "tfidf_vectorizer = TfidfVectorizer(ngram_range=(1, 2))\n",
    "tfidf_vectorizer.fit(X_train['T'])\n",
    "X_train_tfidf = tfidf_vectorizer.transform(X_train['T'])\n",
    "X_test_tfidf = tfidf_vectorizer.transform(X_test['T'])"
   ]
  },
  {
   "cell_type": "code",
   "execution_count": 155,
   "metadata": {
    "collapsed": false
   },
   "outputs": [
    {
     "data": {
      "text/plain": [
       "<2398x3000 sparse matrix of type '<class 'numpy.int64'>'\n",
       "\twith 20280 stored elements in Compressed Sparse Row format>"
      ]
     },
     "execution_count": 155,
     "metadata": {},
     "output_type": "execute_result"
    }
   ],
   "source": [
    "X_train_binary"
   ]
  },
  {
   "cell_type": "code",
   "execution_count": 156,
   "metadata": {
    "collapsed": true
   },
   "outputs": [],
   "source": [
    "# Run this so your plots show properly\n",
    "import matplotlib.pyplot as plt\n",
    "%matplotlib inline\n",
    "plt.rcParams['figure.figsize'] = 12, 12"
   ]
  },
  {
   "cell_type": "code",
   "execution_count": 157,
   "metadata": {
    "collapsed": false
   },
   "outputs": [
    {
     "name": "stdout",
     "output_type": "stream",
     "text": [
      "Area under the ROC curve on the test data = 0.704\n",
      "Area under the ROC curve on the test data = 0.702\n",
      "Area under the ROC curve on the test data = 0.688\n",
      "Area under the ROC curve on the test data = 0.710\n"
     ]
    },
    {
     "data": {
      "text/plain": [
       "<matplotlib.legend.Legend at 0x9e6c908>"
      ]
     },
     "execution_count": 157,
     "metadata": {},
     "output_type": "execute_result"
    },
    {
     "data": {
      "image/png": "[encoded data removed]",
      "text/plain": [
       "<matplotlib.figure.Figure at 0x97e6be0>"
      ]
     },
     "metadata": {},
     "output_type": "display_data"
    }
   ],
   "source": [
    "from sklearn.linear_model import LogisticRegression\n",
    "from sklearn.naive_bayes import BernoulliNB\n",
    "from sklearn import metrics\n",
    "\n",
    "tprs = []\n",
    "fprs = []\n",
    "roc_labels = []\n",
    "\n",
    "# Model\n",
    "model = BernoulliNB()\n",
    "model.fit(X_train_binary, Y_train)\n",
    "\n",
    "auc_score = metrics.roc_auc_score(model.predict(X_test_binary), Y_test)\n",
    "print (\"Area under the ROC curve on the test data = %.3f\" % auc_score)\n",
    "fpr, tpr, thresholds = metrics.roc_curve(Y_test, model.predict_proba(X_test_binary)[:,1])\n",
    "tprs.append(tpr)\n",
    "fprs.append(fpr)\n",
    "roc_labels.append(\"Bernoulli Binary Vectorizer AUC: \" + str(auc_score))\n",
    "ax = plt.subplot()\n",
    "plt.plot(fpr, tpr, label=roc_labels[0])\n",
    "plt.xlabel(\"fpr\")\n",
    "plt.ylabel(\"tpr\")\n",
    "plt.title(\"ROC Curve\")\n",
    "plt.xlim([0, 1])\n",
    "plt.ylim([0, 1])\n",
    "\n",
    "# Model\n",
    "model = BernoulliNB()\n",
    "model.fit(X_train_tfidf, Y_train)\n",
    "\n",
    "auc_score = metrics.roc_auc_score(model.predict(X_test_tfidf), Y_test)\n",
    "print (\"Area under the ROC curve on the test data = %.3f\" % auc_score)\n",
    "fpr, tpr, thresholds = metrics.roc_curve(Y_test, model.predict_proba(X_test_tfidf)[:,1])\n",
    "tprs.append(tpr)\n",
    "fprs.append(fpr)\n",
    "roc_labels.append(\"Bernoulli Tfidf AUC: \" + str(auc_score))\n",
    "ax = plt.subplot()\n",
    "plt.plot(fpr, tpr, label=roc_labels[1])\n",
    "plt.xlabel(\"fpr\")\n",
    "plt.ylabel(\"tpr\")\n",
    "plt.title(\"ROC Curve\")\n",
    "plt.xlim([0, 1])\n",
    "plt.ylim([0, 1])\n",
    "\n",
    "# Model\n",
    "model = LogisticRegression()\n",
    "model.fit(X_train_binary, Y_train)\n",
    "\n",
    "auc_score = metrics.roc_auc_score(model.predict(X_test_binary), Y_test)\n",
    "print (\"Area under the ROC curve on the test data = %.3f\" % auc_score)\n",
    "fpr, tpr, thresholds = metrics.roc_curve(Y_test, model.predict_proba(X_test_binary)[:,1])\n",
    "tprs.append(tpr)\n",
    "fprs.append(fpr)\n",
    "roc_labels.append(\"LR Binary Vectorizer AUC: \" + str(auc_score))\n",
    "ax = plt.subplot()\n",
    "plt.plot(fpr, tpr, label=roc_labels[2])\n",
    "plt.xlabel(\"fpr\")\n",
    "plt.ylabel(\"tpr\")\n",
    "plt.title(\"ROC Curve\")\n",
    "plt.xlim([0, 1])\n",
    "plt.ylim([0, 1])\n",
    "\n",
    "# Model\n",
    "model = LogisticRegression()\n",
    "model.fit(X_train_tfidf, Y_train)\n",
    "\n",
    "auc_score = metrics.roc_auc_score(model.predict(X_test_tfidf), Y_test)\n",
    "print (\"Area under the ROC curve on the test data = %.3f\" % auc_score)\n",
    "fpr, tpr, thresholds = metrics.roc_curve(Y_test, model.predict_proba(X_test_tfidf)[:,1])\n",
    "tprs.append(tpr)\n",
    "fprs.append(fpr)\n",
    "roc_labels.append(\"LR Tfidf AUC: \" + str(auc_score))\n",
    "ax = plt.subplot()\n",
    "plt.plot(fpr, tpr, label=roc_labels[3])\n",
    "plt.xlabel(\"fpr\")\n",
    "plt.ylabel(\"tpr\")\n",
    "plt.title(\"ROC Curve\")\n",
    "plt.xlim([0, 1])\n",
    "plt.ylim([0, 1])\n",
    "plt.legend()"
   ]
  },
  {
   "cell_type": "code",
   "execution_count": null,
   "metadata": {
    "collapsed": true
   },
   "outputs": [],
   "source": []
  }
 ],
 "metadata": {
  "kernelspec": {
   "display_name": "Python 3",
   "language": "python",
   "name": "python3"
  },
  "language_info": {
   "codemirror_mode": {
    "name": "ipython",
    "version": 3
   },
   "file_extension": ".py",
   "mimetype": "text/x-python",
   "name": "python",
   "nbconvert_exporter": "python",
   "pygments_lexer": "ipython3",
   "version": "3.4.3"
  }
 },
 "nbformat": 4,
 "nbformat_minor": 0
}
